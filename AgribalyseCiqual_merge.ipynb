{
 "cells": [
  {
   "cell_type": "markdown",
   "id": "feaa18e3",
   "metadata": {},
   "source": [
    "# Ingredients-Dishes merge on CIQUAL code"
   ]
  },
  {
   "cell_type": "code",
   "execution_count": 1,
   "id": "753c3498",
   "metadata": {},
   "outputs": [],
   "source": [
    "import numpy as np\n",
    "import pandas as pd"
   ]
  },
  {
   "cell_type": "code",
   "execution_count": 2,
   "id": "80ee1574",
   "metadata": {},
   "outputs": [],
   "source": [
    "filepath = 'https://raw.githubusercontent.com/S1mDu/LCA/main/Data/'"
   ]
  },
  {
   "cell_type": "code",
   "execution_count": 3,
   "id": "8773c730",
   "metadata": {},
   "outputs": [],
   "source": [
    "ingredient = pd.read_excel(filepath + 'Ingredients.xls', sheet_name='compo')\n",
    "dish = pd.read_excel(filepath + 'Dishes.xlsx', sheet_name='Modif')"
   ]
  },
  {
   "cell_type": "code",
   "execution_count": 4,
   "id": "03eb9de8",
   "metadata": {},
   "outputs": [
    {
     "data": {
      "text/plain": [
       "Index(['alim_grp_code', 'alim_ssgrp_code', 'alim_ssssgrp_code',\n",
       "       'alim_grp_nom_fr', 'alim_ssgrp_nom_fr', 'alim_ssssgrp_nom_fr',\n",
       "       'alim_code', 'alim_nom_fr', 'alim_nom_sci',\n",
       "       'Energie, Règlement UE N° 1169/2011 (kJ/100 g)',\n",
       "       'Energie, Règlement UE N° 1169/2011 (kcal/100 g)',\n",
       "       'Energie, N x facteur Jones, avec fibres  (kJ/100 g)',\n",
       "       'Energie, N x facteur Jones, avec fibres  (kcal/100 g)',\n",
       "       'Eau (g/100 g)', 'Protéines, N x facteur de Jones (g/100 g)',\n",
       "       'Protéines, N x 6.25 (g/100 g)', 'Glucides (g/100 g)',\n",
       "       'Lipides (g/100 g)', 'Sucres (g/100 g)', 'Fructose (g/100 g)',\n",
       "       'Galactose (g/100 g)', 'Glucose (g/100 g)', 'Lactose (g/100 g)',\n",
       "       'Maltose (g/100 g)', 'Saccharose (g/100 g)', 'Amidon (g/100 g)',\n",
       "       'Fibres alimentaires (g/100 g)', 'Polyols totaux (g/100 g)',\n",
       "       'Cendres (g/100 g)', 'Alcool (g/100 g)', 'Acides organiques (g/100 g)',\n",
       "       'AG saturés (g/100 g)', 'AG monoinsaturés (g/100 g)',\n",
       "       'AG polyinsaturés (g/100 g)', 'AG 4:0, butyrique (g/100 g)',\n",
       "       'AG 6:0, caproïque (g/100 g)', 'AG 8:0, caprylique (g/100 g)',\n",
       "       'AG 10:0, caprique (g/100 g)', 'AG 12:0, laurique (g/100 g)',\n",
       "       'AG 14:0, myristique (g/100 g)', 'AG 16:0, palmitique (g/100 g)',\n",
       "       'AG 18:0, stéarique (g/100 g)', 'AG 18:1 9c (n-9), oléique (g/100 g)',\n",
       "       'AG 18:2 9c,12c (n-6), linoléique (g/100 g)',\n",
       "       'AG 18:3 c9,c12,c15 (n-3), alpha-linolénique (g/100 g)',\n",
       "       'AG 20:4 5c,8c,11c,14c (n-6), arachidonique (g/100 g)',\n",
       "       'AG 20:5 5c,8c,11c,14c,17c (n-3) EPA (g/100 g)',\n",
       "       'AG 22:6 4c,7c,10c,13c,16c,19c (n-3) DHA (g/100 g)',\n",
       "       'Cholestérol (mg/100 g)', 'Sel chlorure de sodium (g/100 g)',\n",
       "       'Calcium (mg/100 g)', 'Chlorure (mg/100 g)', 'Cuivre (mg/100 g)',\n",
       "       'Fer (mg/100 g)', 'Iode (µg/100 g)', 'Magnésium (mg/100 g)',\n",
       "       'Manganèse (mg/100 g)', 'Phosphore (mg/100 g)', 'Potassium (mg/100 g)',\n",
       "       'Sélénium (µg/100 g)', 'Sodium (mg/100 g)', 'Zinc (mg/100 g)',\n",
       "       'Rétinol (µg/100 g)', 'Beta-Carotène (µg/100 g)',\n",
       "       'Vitamine D (µg/100 g)', 'Vitamine E (mg/100 g)',\n",
       "       'Vitamine K1 (µg/100 g)', 'Vitamine K2 (µg/100 g)',\n",
       "       'Vitamine C (mg/100 g)', 'Vitamine B1 ou Thiamine (mg/100 g)',\n",
       "       'Vitamine B2 ou Riboflavine (mg/100 g)',\n",
       "       'Vitamine B3 ou PP ou Niacine (mg/100 g)',\n",
       "       'Vitamine B5 ou Acide pantothénique (mg/100 g)',\n",
       "       'Vitamine B6 (mg/100 g)', 'Vitamine B9 ou Folates totaux (µg/100 g)',\n",
       "       'Vitamine B12 (µg/100 g)'],\n",
       "      dtype='object')"
      ]
     },
     "execution_count": 4,
     "metadata": {},
     "output_type": "execute_result"
    }
   ],
   "source": [
    "ingredient.columns"
   ]
  },
  {
   "cell_type": "code",
   "execution_count": 5,
   "id": "79d134f8",
   "metadata": {},
   "outputs": [],
   "source": [
    "ingredient.rename(columns={'alim_code': 'CIQUAL'}, inplace=True)"
   ]
  },
  {
   "cell_type": "code",
   "execution_count": 6,
   "id": "d20cf8e9",
   "metadata": {},
   "outputs": [
    {
     "data": {
      "text/plain": [
       "Index(['Code\\nAGB', 'Code\\nCIQUAL', 'Groupe d'aliment',\n",
       "       'Sous-groupe d'aliment', 'Nom du Produit en Français', 'LCI Name',\n",
       "       'code saison (0 : hors saison ; 1 : de saison ; 2 : mix de consommation FR)',\n",
       "       'code avion (1 : par avion)', 'Livraison', 'Approche emballage ',\n",
       "       'Préparation',\n",
       "       'DQR - Note de qualité de la donnée (1 excellente ; 5 très faible)',\n",
       "       'Score unique EF 3.1 - mPt/kg de produit',\n",
       "       'Changement climatique - kg CO2 eq/kg de produit',\n",
       "       'Appauvrissement de la couche d'ozone - kg CVC11 eq/kg de produit',\n",
       "       'Rayonnements ionisants - kBq U-235 eq/kg de produit',\n",
       "       'Formation photochimique d'ozone - kg NMVOC eq/kg de produit',\n",
       "       'Particules fines - disease inc./kg de produit',\n",
       "       'Effets toxicologiques sur la santé humaine : substances non-cancérogènes- CTUh/kg de produit',\n",
       "       'Effets toxicologiques sur la santé humaine : substances cancérogènes - CTUh/kg de produit',\n",
       "       'Acidification terrestre et eaux douces - mol H+ eq/kg de produit',\n",
       "       'Eutrophisation eaux douces - kg P eq/kg de produit',\n",
       "       'Eutrophisation marine - kg N eq/kg de produit',\n",
       "       'Eutrophisation terrestre - mol N eq/kg de produit',\n",
       "       'Écotoxicité pour écosystèmes aquatiques d'eau douce - CTUe/kg de produit',\n",
       "       'Utilisation du sol - Pt/kg de produit',\n",
       "       'Épuisement des ressources eau - m3 depriv./kg de produit',\n",
       "       'Épuisement des ressources énergétiques - MJ/kg de produit',\n",
       "       'Épuisement des ressources minéraux - kg Sb eq/kg de produit',\n",
       "       'Changement climatique - émissions biogéniques - kg CO2 eq/kg de produit',\n",
       "       'Changement climatique - émissions fossiles - kg CO2 eq/kg de produit',\n",
       "       'Changement climatique - émissions liées au changement d'affectation des sols - kg CO2 eq/kg de produit'],\n",
       "      dtype='object')"
      ]
     },
     "execution_count": 6,
     "metadata": {},
     "output_type": "execute_result"
    }
   ],
   "source": [
    "dish.columns"
   ]
  },
  {
   "cell_type": "code",
   "execution_count": 7,
   "id": "1b7aa392",
   "metadata": {},
   "outputs": [],
   "source": [
    "dish.rename(columns={'Code\\nCIQUAL': 'CIQUAL'}, inplace=True)"
   ]
  },
  {
   "cell_type": "code",
   "execution_count": 8,
   "id": "120f3274",
   "metadata": {},
   "outputs": [],
   "source": [
    "final = pd.merge(ingredient, dish, how='outer', on='CIQUAL')"
   ]
  },
  {
   "cell_type": "code",
   "execution_count": 9,
   "id": "c14a314d",
   "metadata": {},
   "outputs": [],
   "source": [
    "interest_cols = ['alim_grp_nom_fr',\t'alim_ssgrp_nom_fr', 'alim_ssssgrp_nom_fr',\t'CIQUAL', 'alim_nom_fr', 'Energie, Règlement UE N° 1169/2011 (kJ/100 g)', 'Energie, Règlement UE N° 1169/2011 (kcal/100 g)', 'Energie, N x facteur Jones, avec fibres  (kJ/100 g)', 'Energie, N x facteur Jones, avec fibres  (kcal/100 g)', 'Eau (g/100 g)', 'Protéines, N x facteur de Jones (g/100 g)', 'Protéines, N x 6.25 (g/100 g)', 'Glucides (g/100 g)',\t'Lipides (g/100 g)', 'Sucres (g/100 g)', 'Fibres alimentaires (g/100 g)', 'Acides organiques (g/100 g)', 'AG saturés (g/100 g)', 'AG monoinsaturés (g/100 g)', 'AG polyinsaturés (g/100 g)', \"Groupe d'aliment\", \"Sous-groupe d'aliment\", 'Nom du Produit en Français',\t'LCI Name',\t'code saison (0 : hors saison ; 1 : de saison ; 2 : mix de consommation FR)',\t'code avion (1 : par avion)', 'Livraison', 'Préparation', 'DQR - Note de qualité de la donnée (1 excellente ; 5 très faible)', 'Score unique EF 3.1 - mPt/kg de produit', 'Changement climatique - kg CO2 eq/kg de produit', \"Appauvrissement de la couche d'ozone - kg CVC11 eq/kg de produit\",\t'Rayonnements ionisants - kBq U-235 eq/kg de produit',\t\"Formation photochimique d'ozone - kg NMVOC eq/kg de produit\", 'Particules fines - disease inc./kg de produit',\t'Effets toxicologiques sur la santé humaine : substances non-cancérogènes- CTUh/kg de produit', 'Effets toxicologiques sur la santé humaine : substances cancérogènes - CTUh/kg de produit',\t'Acidification terrestre et eaux douces - mol H+ eq/kg de produit',\t'Eutrophisation eaux douces - kg P eq/kg de produit', 'Eutrophisation marine - kg N eq/kg de produit', 'Eutrophisation terrestre - mol N eq/kg de produit', \"Écotoxicité pour écosystèmes aquatiques d'eau douce - CTUe/kg de produit\", 'Utilisation du sol - Pt/kg de produit', 'Épuisement des ressources eau - m3 depriv./kg de produit', 'Épuisement des ressources énergétiques - MJ/kg de produit', 'Épuisement des ressources minéraux - kg Sb eq/kg de produit', 'Changement climatique - émissions biogéniques - kg CO2 eq/kg de produit', 'Changement climatique - émissions fossiles - kg CO2 eq/kg de produit', \"Changement climatique - émissions liées au changement d'affectation des sols - kg CO2 eq/kg de produit\"]\n",
    "# manque 'Code AGB', 'Approche emballage'"
   ]
  },
  {
   "cell_type": "code",
   "execution_count": 10,
   "id": "36824c7a",
   "metadata": {},
   "outputs": [],
   "source": [
    "final = final[interest_cols]"
   ]
  },
  {
   "cell_type": "code",
   "execution_count": 11,
   "id": "17a9753e",
   "metadata": {},
   "outputs": [],
   "source": [
    "definitif = final.dropna()"
   ]
  },
  {
   "cell_type": "code",
   "execution_count": 12,
   "id": "14afc983",
   "metadata": {},
   "outputs": [
    {
     "name": "stderr",
     "output_type": "stream",
     "text": [
      "C:\\Users\\simon\\AppData\\Local\\Temp\\ipykernel_25192\\4261011455.py:3: SettingWithCopyWarning: \n",
      "A value is trying to be set on a copy of a slice from a DataFrame.\n",
      "Try using .loc[row_indexer,col_indexer] = value instead\n",
      "\n",
      "See the caveats in the documentation: https://pandas.pydata.org/pandas-docs/stable/user_guide/indexing.html#returning-a-view-versus-a-copy\n",
      "  definitif[col] = definitif[col].str.replace(',', '.')\n",
      "C:\\Users\\simon\\AppData\\Local\\Temp\\ipykernel_25192\\4261011455.py:4: SettingWithCopyWarning: \n",
      "A value is trying to be set on a copy of a slice from a DataFrame.\n",
      "Try using .loc[row_indexer,col_indexer] = value instead\n",
      "\n",
      "See the caveats in the documentation: https://pandas.pydata.org/pandas-docs/stable/user_guide/indexing.html#returning-a-view-versus-a-copy\n",
      "  definitif[col] = pd.to_numeric(definitif[col], errors='coerce')\n"
     ]
    }
   ],
   "source": [
    "# replace in each row the , by a . in the columns that are not categorical\n",
    "for col in definitif[['Energie, Règlement UE N° 1169/2011 (kJ/100 g)', 'Energie, Règlement UE N° 1169/2011 (kcal/100 g)', 'Energie, N x facteur Jones, avec fibres  (kJ/100 g)', 'Energie, N x facteur Jones, avec fibres  (kcal/100 g)', 'Eau (g/100 g)', 'Protéines, N x facteur de Jones (g/100 g)', 'Protéines, N x 6.25 (g/100 g)', 'Glucides (g/100 g)',\t'Lipides (g/100 g)', 'Sucres (g/100 g)', 'Fibres alimentaires (g/100 g)', 'Acides organiques (g/100 g)', 'AG saturés (g/100 g)', 'AG monoinsaturés (g/100 g)', 'AG polyinsaturés (g/100 g)']]:\n",
    "    definitif[col] = definitif[col].str.replace(',', '.')\n",
    "    definitif[col] = pd.to_numeric(definitif[col], errors='coerce')"
   ]
  },
  {
   "cell_type": "code",
   "execution_count": 13,
   "id": "6f5343da",
   "metadata": {},
   "outputs": [],
   "source": [
    "definitif = definitif.dropna()"
   ]
  },
  {
   "cell_type": "code",
   "execution_count": 14,
   "id": "4c6c8d0c",
   "metadata": {},
   "outputs": [],
   "source": [
    "# Export the merged DataFrame to an Excel file\n",
    "definitif.to_excel('C:/Users/simon/OneDrive/Bureau/final_db.xlsx', index=False)"
   ]
  }
 ],
 "metadata": {
  "kernelspec": {
   "display_name": "base",
   "language": "python",
   "name": "python3"
  },
  "language_info": {
   "codemirror_mode": {
    "name": "ipython",
    "version": 3
   },
   "file_extension": ".py",
   "mimetype": "text/x-python",
   "name": "python",
   "nbconvert_exporter": "python",
   "pygments_lexer": "ipython3",
   "version": "3.12.4"
  }
 },
 "nbformat": 4,
 "nbformat_minor": 5
}
